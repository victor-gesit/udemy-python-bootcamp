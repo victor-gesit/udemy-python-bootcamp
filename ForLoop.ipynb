{
 "cells": [
  {
   "cell_type": "code",
   "execution_count": 9,
   "metadata": {},
   "outputs": [],
   "source": [
    "myList = [1, 2, 3, 4, 5, 6, 7, 8, 9, 10]\n",
    "total = 0"
   ]
  },
  {
   "cell_type": "code",
   "execution_count": 16,
   "metadata": {},
   "outputs": [
    {
     "name": "stdout",
     "output_type": "stream",
     "text": [
      "Odd Number 1\n",
      "Even Number 2\n",
      "Odd Number 3\n",
      "Even Number 4\n",
      "Odd Number 5\n",
      "Even Number 6\n",
      "Odd Number 7\n",
      "Even Number 8\n",
      "Odd Number 9\n",
      "Even Number 10\n"
     ]
    }
   ],
   "source": [
    "for number in myList:\n",
    "    # Check for even number\n",
    "    if number % 2 == 0:\n",
    "        print(f'Even Number {number}')\n",
    "    else:\n",
    "        print(f'Odd Number {number}')"
   ]
  },
  {
   "cell_type": "code",
   "execution_count": 11,
   "metadata": {},
   "outputs": [
    {
     "name": "stdout",
     "output_type": "stream",
     "text": [
      "30\n"
     ]
    }
   ],
   "source": [
    "print(total)"
   ]
  },
  {
   "cell_type": "code",
   "execution_count": 26,
   "metadata": {},
   "outputs": [],
   "source": [
    "myList = [(1, 2, 3), (3, 4, 5), (4, 5, 6), (5, 6, 7), (7, 8, 9)]\n"
   ]
  },
  {
   "cell_type": "code",
   "execution_count": 30,
   "metadata": {},
   "outputs": [
    {
     "name": "stdout",
     "output_type": "stream",
     "text": [
      "1 2 3\n",
      "3 4 5\n",
      "4 5 6\n",
      "5 6 7\n",
      "7 8 9\n"
     ]
    }
   ],
   "source": [
    "# Tuple Unpacking\n",
    "for a, b, c in myList:\n",
    "    print(a, b, c)"
   ]
  },
  {
   "cell_type": "code",
   "execution_count": 31,
   "metadata": {},
   "outputs": [],
   "source": [
    "myDict = {\"name\": \"Gesit\", \"age\": 28}"
   ]
  },
  {
   "cell_type": "code",
   "execution_count": 35,
   "metadata": {},
   "outputs": [
    {
     "name": "stdout",
     "output_type": "stream",
     "text": [
      "name Gesit\n",
      "age 28\n"
     ]
    }
   ],
   "source": [
    "for a, b in myDict.items():\n",
    "    print(a, b)\n",
    "    "
   ]
  },
  {
   "cell_type": "code",
   "execution_count": null,
   "metadata": {},
   "outputs": [],
   "source": []
  }
 ],
 "metadata": {
  "kernelspec": {
   "display_name": "Python 3",
   "language": "python",
   "name": "python3"
  },
  "language_info": {
   "codemirror_mode": {
    "name": "ipython",
    "version": 3
   },
   "file_extension": ".py",
   "mimetype": "text/x-python",
   "name": "python",
   "nbconvert_exporter": "python",
   "pygments_lexer": "ipython3",
   "version": "3.6.5"
  }
 },
 "nbformat": 4,
 "nbformat_minor": 2
}
