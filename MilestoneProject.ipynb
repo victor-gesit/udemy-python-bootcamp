{
 "cells": [
  {
   "cell_type": "code",
   "execution_count": 130,
   "metadata": {},
   "outputs": [],
   "source": [
    "from IPython.display import clear_output\n",
    "from random import randint\n",
    "\n",
    "import random\n",
    "player_1_marker = \"\"\n",
    "player_2_marker = \"\"\n",
    "game_cancelled = False\n",
    "def display_board(board = [\"#\", \" \", \" \", \" \", \" \", \" \", \" \", \" \", \" \", \"#\"]):\n",
    "    clear_output()\n",
    "    print(f\"    |     |    \")\n",
    "    print(f\" {board[1]}  |  {board[2]}  |  {board[3]} \")\n",
    "    print(f\"    |     |    \")\n",
    "    print(f\"---------------\")\n",
    "    print(f\"    |     |    \")\n",
    "    print(f\" {board[4]}  |  {board[5]}  |  {board[6]} \")\n",
    "    print(f\"    |     |    \")\n",
    "    print(f\"---------------\")\n",
    "    print(f\"    |     |    \")\n",
    "    print(f\" {board[7]}  |  {board[8]}  |  {board[9]} \")\n",
    "    print(f\"    |     |    \")\n",
    "\n",
    "def pick_marker():\n",
    "    keep_asking = True\n",
    "    while(keep_asking):\n",
    "        player_1_marker = input(\"Player 1, pick a marker 'X' or 'O' (enter 'E' to Exit)\")\n",
    "        player_1_marker = player_1_marker.upper()\n",
    "        if player_1_marker == \"O\" or player_1_marker == \"X\":\n",
    "            keep_asking = False\n",
    "        if player_1_marker == \"E\":\n",
    "            player_2_marker = \"E\"\n",
    "            keep_asking = False\n",
    "            game_cancelled = True\n",
    "        clear_output()\n",
    "    if player_1_marker == \"O\":\n",
    "        player_2_marker = \"X\"\n",
    "    elif player_1_marker == \"X\":\n",
    "        player_2_marker = \"O\"\n",
    "    print(f'Player 1 selected {player_1_marker}')\n",
    "    return { 1: player_1_marker , 2: player_2_marker}\n",
    "    \n",
    "def place_marker(board, marker, position):\n",
    "    board[position] = marker\n",
    "    return board\n",
    "\n",
    "def win_check(board, mark):\n",
    "    return board[1] == board[2] == board[3] == mark \\\n",
    "    or board[1] == board[4] == board[7] == mark \\\n",
    "    or board[1] == board[5] == board[9] == mark \\\n",
    "    or board[2] == board[5] == board[8] == mark \\\n",
    "    or board[3] == board[6] == board[9] == mark \\\n",
    "    or board[3] == board[5] == board[7] == mark \\\n",
    "    or board[4] == board[5] == board[6] == mark \\\n",
    "    or board[7] == board[8] == board[9] == mark\n",
    "\n",
    "def space_check(board, position):\n",
    "    return board[position] == ' '\n",
    "\n",
    "def full_board_check(board):\n",
    "    return board.count(' ') <= 1\n",
    "\n",
    "def choose_first():\n",
    "    first = randint(1, 2)\n",
    "    print(f\"Player {first} goes first.\")\n",
    "    return first\n",
    "\n",
    "def replay():\n",
    "    replay = input(\"Do you want to play again? (Y or N)\")\n",
    "    replay = replay.lower()\n",
    "    if replay == 'y':\n",
    "        return True\n",
    "    if replay == 'n':\n",
    "        return False\n",
    "            \n",
    "def player_choice(board):\n",
    "    supplied_input = input(\"Choose your next position (1 - 9): \")\n",
    "    try:\n",
    "        int(supplied_input)\n",
    "        pass\n",
    "    except:\n",
    "        return -1\n",
    "    choice = int(supplied_input)\n",
    "    if choice in range(1, 10):\n",
    "        if space_check(board, choice):\n",
    "            return choice\n",
    "        else:\n",
    "            return -1\n"
   ]
  },
  {
   "cell_type": "code",
   "execution_count": 133,
   "metadata": {},
   "outputs": [],
   "source": [
    "def start_game():\n",
    "    print('Welcome to Tic Tac Toe!')\n",
    "    player_markers = pick_marker()\n",
    "    game_on = True\n",
    "    first_player = choose_first()\n",
    "    game_board = [\"#\"] + [\" \"]*9\n",
    "    display_board(game_board)\n",
    "    current_player = first_player\n",
    "    while True:\n",
    "        while game_on:\n",
    "            print(f\"Player {current_player}'s turn: \")\n",
    "            choice_position = player_choice(game_board)\n",
    "            if choice_position != -1:\n",
    "                current_player_symbol = player_markers[current_player]\n",
    "                game_board = place_marker(game_board, current_player_symbol, choice_position)\n",
    "                display_board(game_board)\n",
    "                if win_check(game_board, current_player_symbol):\n",
    "                    print(f\"Player {current_player} has won the game!\")\n",
    "                    break\n",
    "                if full_board_check(game_board):\n",
    "                    print(\"Nobody won this round.\")\n",
    "                    break\n",
    "                current_player = (current_player % 2) + 1\n",
    "            else:\n",
    "                print(\"That position is filled. Pick another.\")\n",
    "        if not replay():\n",
    "            break\n",
    "        else:\n",
    "            start_game()\n"
   ]
  },
  {
   "cell_type": "code",
   "execution_count": 134,
   "metadata": {},
   "outputs": [
    {
     "name": "stdout",
     "output_type": "stream",
     "text": [
      "    |     |    \n",
      " X  |  O  |  X \n",
      "    |     |    \n",
      "---------------\n",
      "    |     |    \n",
      " O  |  X  |  O \n",
      "    |     |    \n",
      "---------------\n",
      "    |     |    \n",
      " X  |     |    \n",
      "    |     |    \n",
      "Player 1 has won the game!\n"
     ]
    }
   ],
   "source": [
    "start_game()"
   ]
  },
  {
   "cell_type": "code",
   "execution_count": 128,
   "metadata": {},
   "outputs": [],
   "source": [
    "my_list = [1, 2, 3, 4, 4, 4]"
   ]
  },
  {
   "cell_type": "code",
   "execution_count": 129,
   "metadata": {},
   "outputs": [
    {
     "data": {
      "text/plain": [
       "3"
      ]
     },
     "execution_count": 129,
     "metadata": {},
     "output_type": "execute_result"
    }
   ],
   "source": [
    "my_list.count(4)"
   ]
  },
  {
   "cell_type": "code",
   "execution_count": null,
   "metadata": {},
   "outputs": [],
   "source": []
  }
 ],
 "metadata": {
  "kernelspec": {
   "display_name": "Python 3",
   "language": "python",
   "name": "python3"
  },
  "language_info": {
   "codemirror_mode": {
    "name": "ipython",
    "version": 3
   },
   "file_extension": ".py",
   "mimetype": "text/x-python",
   "name": "python",
   "nbconvert_exporter": "python",
   "pygments_lexer": "ipython3",
   "version": "3.6.5"
  }
 },
 "nbformat": 4,
 "nbformat_minor": 2
}
