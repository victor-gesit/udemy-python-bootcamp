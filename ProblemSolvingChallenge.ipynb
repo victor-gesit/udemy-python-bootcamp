{
 "cells": [
  {
   "cell_type": "code",
   "execution_count": 65,
   "metadata": {},
   "outputs": [],
   "source": [
    "class Node():\n",
    "    def __init__(self, value):\n",
    "        self.value = value # Every node has a value that should be initialized when the node is created\n",
    "        self.next = None # This is assigned a value later in the lifecycle of the node\n",
    "        \n",
    "    def loopSize(self):\n",
    "        count = 0 # Counter to get the size of the loop\n",
    "        node = self # The counting is done using an iteration that starts with the current node\n",
    "        found_nodes = [] # Hold the values of all nodes up to this point\n",
    "        while node.next != None:\n",
    "            if node in found_nodes:\n",
    "                size = count - found_nodes.index(node)\n",
    "                return size\n",
    "            count += 1\n",
    "            found_nodes.append(node)\n",
    "            node = node.next\n",
    "        else:\n",
    "            print(\"This linked list has no loop\")\n",
    "            return -1\n",
    "        "
   ]
  },
  {
   "cell_type": "code",
   "execution_count": 66,
   "metadata": {},
   "outputs": [],
   "source": [
    "node1 = Node(1)\n",
    "node2 = Node(2)\n",
    "node3 = Node(3)\n",
    "node4 = Node(4)\n",
    "node5 = Node(5)\n",
    "node6 = Node(6)\n",
    "node7 = Node(7)\n",
    "node8 = Node(8)\n",
    "node1.next = node2\n",
    "node2.next = node3\n",
    "node3.next = node4\n",
    "node4.next = node5\n",
    "node5.next = node6\n",
    "node6.next = node7\n",
    "node7.next = node8\n",
    "node8.next = node7"
   ]
  },
  {
   "cell_type": "code",
   "execution_count": 67,
   "metadata": {},
   "outputs": [
    {
     "data": {
      "text/plain": [
       "2"
      ]
     },
     "execution_count": 67,
     "metadata": {},
     "output_type": "execute_result"
    }
   ],
   "source": [
    "node1.loopSize()"
   ]
  },
  {
   "cell_type": "code",
   "execution_count": 58,
   "metadata": {},
   "outputs": [
    {
     "data": {
      "text/plain": [
       "False"
      ]
     },
     "execution_count": 58,
     "metadata": {},
     "output_type": "execute_result"
    }
   ],
   "source": [
    "node8 == node3"
   ]
  },
  {
   "cell_type": "code",
   "execution_count": 59,
   "metadata": {},
   "outputs": [],
   "source": [
    "nodeme = Node('me')\n",
    "nodeme2 = Node('me')"
   ]
  },
  {
   "cell_type": "code",
   "execution_count": 60,
   "metadata": {},
   "outputs": [
    {
     "data": {
      "text/plain": [
       "False"
      ]
     },
     "execution_count": 60,
     "metadata": {},
     "output_type": "execute_result"
    }
   ],
   "source": [
    "nodeme  == nodeme2"
   ]
  },
  {
   "cell_type": "code",
   "execution_count": 89,
   "metadata": {},
   "outputs": [],
   "source": [
    "a_list = [\"0000\", \"1000\", \"0002\", \"0002\"]"
   ]
  },
  {
   "cell_type": "code",
   "execution_count": 113,
   "metadata": {},
   "outputs": [],
   "source": [
    "def find_me(a_list):\n",
    "    x = 0\n",
    "    y = 0\n",
    "    for item in a_list:\n",
    "        if '1' in item:\n",
    "            x = item.index('1')\n",
    "            y = a_list.index(item)\n",
    "            return(x,y)\n",
    "\n",
    "def find_opponents(a_list):\n",
    "    opponents = []\n",
    "    item_index = 0\n",
    "    for item in a_list:\n",
    "        if '2' in item:\n",
    "            x = item.index('2')\n",
    "            y = item_index\n",
    "            opponents.append((x, y))\n",
    "        item_index += 1\n",
    "    return opponents\n",
    "\n",
    "def find_battlefield_dimensions(a_list):\n",
    "    height = len(a_list)\n",
    "    width = 0\n",
    "    for item in a_list:\n",
    "        if len(item) > width:\n",
    "            width = len(item)\n",
    "    return (width, height)\n",
    "\n",
    "def find_distance_from_opponent(battlefield_dimensions, my_location, opponent_location):\n",
    "    battlefield_width, battlefield_height = battlefield_dimensions\n",
    "    my_x, my_y = my_location\n",
    "    opponent_x, opponent_y = opponent_location\n",
    "    distance_x_1 = abs(opponent_x - my_x)\n",
    "    distance_x_2 = battlefield_width - opponent_x + my_x\n",
    "    distance_y_1 = abs(opponent_y - my_y)\n",
    "    distance_y_2 = battlefield_height - opponent_y + my_y\n",
    "    distance_x = distance_x_1 if distance_x_1 < distance_x_2 else distance_x_2\n",
    "    distance_y = distance_y_1 if distance_y_1 < distance_y_2 else distance_y_2\n",
    "    return distance_x + distance_y\n",
    "\n",
    "def find_shortest_distance_to_opponent(a_list):\n",
    "    battlefield_dimensions = find_battlefield_dimensions(a_list)\n",
    "    my_location = find_me(a_list)\n",
    "    opponent_locations = find_opponents(a_list)\n",
    "    distances_to_opponents = []\n",
    "    for opponent_location in opponent_locations:\n",
    "        distance_to_opponent = find_distance_from_opponent(battlefield_dimensions, my_location, opponent_location)\n",
    "        distances_to_opponents.append(distance_to_opponent)\n",
    "    return min(distances_to_opponents)"
   ]
  },
  {
   "cell_type": "code",
   "execution_count": 107,
   "metadata": {},
   "outputs": [],
   "source": [
    "new_list = [\"00000\", \"02000\", \"00002\", \"10000\"]"
   ]
  },
  {
   "cell_type": "code",
   "execution_count": 108,
   "metadata": {},
   "outputs": [
    {
     "data": {
      "text/plain": [
       "(5, 4)"
      ]
     },
     "execution_count": 108,
     "metadata": {},
     "output_type": "execute_result"
    }
   ],
   "source": [
    "find_battlefield_dimensions(new_list)"
   ]
  },
  {
   "cell_type": "code",
   "execution_count": 109,
   "metadata": {},
   "outputs": [
    {
     "data": {
      "text/plain": [
       "[(1, 1), (4, 2)]"
      ]
     },
     "execution_count": 109,
     "metadata": {},
     "output_type": "execute_result"
    }
   ],
   "source": [
    "find_opponents(new_list)"
   ]
  },
  {
   "cell_type": "code",
   "execution_count": 110,
   "metadata": {},
   "outputs": [
    {
     "data": {
      "text/plain": [
       "(0, 3)"
      ]
     },
     "execution_count": 110,
     "metadata": {},
     "output_type": "execute_result"
    }
   ],
   "source": [
    "find_me(new_list)"
   ]
  },
  {
   "cell_type": "code",
   "execution_count": 77,
   "metadata": {},
   "outputs": [],
   "source": [
    "abab.append(5)"
   ]
  },
  {
   "cell_type": "code",
   "execution_count": 78,
   "metadata": {},
   "outputs": [
    {
     "data": {
      "text/plain": [
       "[1, 2, 3, 4, 5]"
      ]
     },
     "execution_count": 78,
     "metadata": {},
     "output_type": "execute_result"
    }
   ],
   "source": [
    "abab"
   ]
  },
  {
   "cell_type": "code",
   "execution_count": 112,
   "metadata": {},
   "outputs": [
    {
     "data": {
      "text/plain": [
       "2"
      ]
     },
     "execution_count": 112,
     "metadata": {},
     "output_type": "execute_result"
    }
   ],
   "source": [
    "find_distance_from_opponent((5, 4), (0, 3), (4, 2))"
   ]
  },
  {
   "cell_type": "code",
   "execution_count": 91,
   "metadata": {},
   "outputs": [
    {
     "data": {
      "text/plain": [
       "5"
      ]
     },
     "execution_count": 91,
     "metadata": {},
     "output_type": "execute_result"
    }
   ],
   "source": [
    "abs(-5)"
   ]
  },
  {
   "cell_type": "code",
   "execution_count": 114,
   "metadata": {},
   "outputs": [
    {
     "data": {
      "text/plain": [
       "2"
      ]
     },
     "execution_count": 114,
     "metadata": {},
     "output_type": "execute_result"
    }
   ],
   "source": [
    "find_shortest_distance_to_opponent(new_list)"
   ]
  },
  {
   "cell_type": "code",
   "execution_count": 115,
   "metadata": {},
   "outputs": [
    {
     "name": "stdout",
     "output_type": "stream",
     "text": [
      "2\n",
      "1\n",
      "2\n",
      "3\n",
      "2\n"
     ]
    }
   ],
   "source": [
    "def game_parameters(a_list):\n",
    "    opponents = []\n",
    "    my_location = (0, 0)\n",
    "    \n",
    "    battlefield_height = len(a_list)\n",
    "    battlefield_width = 0\n",
    "    item_index = 0\n",
    "    for item in a_list:\n",
    "        if len(item) > battlefield_width:\n",
    "          battlefield_width = len(item)\n",
    "        if '1' in item:\n",
    "            x = item.index('1')\n",
    "            y = a_list.index(item)\n",
    "            my_location = (x, y)\n",
    "        if '2' in item:\n",
    "            x = item.index('2')\n",
    "            y = item_index\n",
    "            opponents.append((x, y))\n",
    "        item_index += 1\n",
    "    battlefield_dimensions = (battlefield_width, battlefield_height)\n",
    "    return {\"my_location\": my_location, \"opponents\": opponents, \"battlefield_dimensions\": battlefield_dimensions}\n",
    "\n",
    "def find_distance_to_opponent(battlefield_dimensions, my_location, opponent_location):\n",
    "    battlefield_width, battlefield_height = battlefield_dimensions\n",
    "    my_x, my_y = my_location\n",
    "    opponent_x, opponent_y = opponent_location\n",
    "    distance_x_1 = abs(opponent_x - my_x)\n",
    "    distance_x_2 = battlefield_width - opponent_x + my_x\n",
    "    distance_y_1 = abs(opponent_y - my_y)\n",
    "    distance_y_2 = battlefield_height - opponent_y + my_y\n",
    "    distance_x = distance_x_1 if distance_x_1 < distance_x_2 else distance_x_2\n",
    "    distance_y = distance_y_1 if distance_y_1 < distance_y_2 else distance_y_2\n",
    "    return distance_x + distance_y\n",
    "\n",
    "def find_shortest_distance_to_opponent(a_list):\n",
    "    game_info = game_parameters(a_list)\n",
    "    battlefield_dimensions = game_info['battlefield_dimensions']\n",
    "    my_location = game_info['my_location']\n",
    "    opponent_locations = game_info['opponents']\n",
    "    distances_to_opponents = []\n",
    "    for opponent_location in opponent_locations:\n",
    "        distance_to_opponent = find_distance_to_opponent(battlefield_dimensions, my_location, opponent_location)\n",
    "        distances_to_opponents.append(distance_to_opponent)\n",
    "    return min(distances_to_opponents)\n",
    "\n",
    "# Examples\n",
    "answer1 = find_shortest_distance_to_opponent([\"0000\", \"1000\", \"0002\", \"0002\"])\n",
    "print(answer1)\n",
    "answer2 = find_shortest_distance_to_opponent([\"000\", \"100\", \"200\"])\n",
    "print(answer2)\n",
    "answer3 = find_shortest_distance_to_opponent([\"0000\", \"2010\", \"0000\", \"2002\"])\n",
    "print(answer3)\n",
    "answer4 = find_shortest_distance_to_opponent([\"00000\", \"10000\", \"00020\", \"00002\"])\n",
    "print(answer4)\n",
    "answer5 = find_shortest_distance_to_opponent([\"00000\", \"02000\", \"00002\", \"10000\"])\n",
    "print(answer5)"
   ]
  },
  {
   "cell_type": "code",
   "execution_count": null,
   "metadata": {},
   "outputs": [],
   "source": []
  },
  {
   "cell_type": "code",
   "execution_count": null,
   "metadata": {},
   "outputs": [],
   "source": []
  },
  {
   "cell_type": "code",
   "execution_count": null,
   "metadata": {},
   "outputs": [],
   "source": []
  },
  {
   "cell_type": "code",
   "execution_count": null,
   "metadata": {},
   "outputs": [],
   "source": []
  },
  {
   "cell_type": "code",
   "execution_count": null,
   "metadata": {},
   "outputs": [],
   "source": []
  },
  {
   "cell_type": "code",
   "execution_count": null,
   "metadata": {},
   "outputs": [],
   "source": []
  }
 ],
 "metadata": {
  "kernelspec": {
   "display_name": "Python 3",
   "language": "python",
   "name": "python3"
  },
  "language_info": {
   "codemirror_mode": {
    "name": "ipython",
    "version": 3
   },
   "file_extension": ".py",
   "mimetype": "text/x-python",
   "name": "python",
   "nbconvert_exporter": "python",
   "pygments_lexer": "ipython3",
   "version": "3.6.5"
  }
 },
 "nbformat": 4,
 "nbformat_minor": 2
}
