{
 "cells": [
  {
   "cell_type": "code",
   "execution_count": 10,
   "metadata": {},
   "outputs": [],
   "source": [
    "class Line:\n",
    "    \n",
    "    def __init__(self,coord1 = (0, 0), coord2 = (1, 1)):\n",
    "        self.x1, self.y1 = coord1\n",
    "        self.x2, self.y2 = coord2\n",
    "        pass\n",
    "    \n",
    "    def distance(self):\n",
    "        line_distance = ((self.x2 - self.x1) ** 2 + (self.y2 - self.y1) ** 2 )** 0.5\n",
    "        return line_distance\n",
    "    \n",
    "    def slope(self):\n",
    "        line_slope = (self.y2 - self.y1)/(self.x2 - self.x1)\n",
    "        return line_slope"
   ]
  },
  {
   "cell_type": "code",
   "execution_count": 11,
   "metadata": {},
   "outputs": [],
   "source": [
    "coord1 = (0, 0)\n",
    "coord2 = (15, 9)\n",
    "line = Line()"
   ]
  },
  {
   "cell_type": "code",
   "execution_count": 12,
   "metadata": {},
   "outputs": [
    {
     "data": {
      "text/plain": [
       "1.0"
      ]
     },
     "execution_count": 12,
     "metadata": {},
     "output_type": "execute_result"
    }
   ],
   "source": [
    "line.slope()"
   ]
  },
  {
   "cell_type": "code",
   "execution_count": 21,
   "metadata": {},
   "outputs": [],
   "source": [
    "class Cylinder:\n",
    "    \n",
    "    def __init__(self,height=1,radius=1):\n",
    "        self.height = height\n",
    "        self.radius = radius\n",
    "        \n",
    "    def volume(self):\n",
    "        cylinder_volume = 3.142 * self.radius ** 2 * self.height\n",
    "        return cylinder_volume\n",
    "    \n",
    "    def surface_area(self):\n",
    "        cylinder_surface_area = 2 * 3.142 * self.radius * self.height + 2 * 3.142 * self.radius ** 2\n",
    "        return cylinder_surface_area"
   ]
  },
  {
   "cell_type": "code",
   "execution_count": 26,
   "metadata": {},
   "outputs": [],
   "source": [
    "a_cylinder = Cylinder(2, 3)"
   ]
  },
  {
   "cell_type": "code",
   "execution_count": 28,
   "metadata": {},
   "outputs": [
    {
     "data": {
      "text/plain": [
       "94.25999999999999"
      ]
     },
     "execution_count": 28,
     "metadata": {},
     "output_type": "execute_result"
    }
   ],
   "source": [
    "a_cylinder.surface_area()"
   ]
  },
  {
   "cell_type": "code",
   "execution_count": null,
   "metadata": {},
   "outputs": [],
   "source": []
  }
 ],
 "metadata": {
  "kernelspec": {
   "display_name": "Python 3",
   "language": "python",
   "name": "python3"
  },
  "language_info": {
   "codemirror_mode": {
    "name": "ipython",
    "version": 3
   },
   "file_extension": ".py",
   "mimetype": "text/x-python",
   "name": "python",
   "nbconvert_exporter": "python",
   "pygments_lexer": "ipython3",
   "version": "3.6.5"
  }
 },
 "nbformat": 4,
 "nbformat_minor": 2
}
