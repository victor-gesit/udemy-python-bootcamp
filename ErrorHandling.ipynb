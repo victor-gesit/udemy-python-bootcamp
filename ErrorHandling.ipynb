{
 "cells": [
  {
   "cell_type": "code",
   "execution_count": 2,
   "metadata": {},
   "outputs": [
    {
     "name": "stdout",
     "output_type": "stream",
     "text": [
      "An error occured during addition\n"
     ]
    }
   ],
   "source": [
    "try:\n",
    "    result = \"10\" + 10\n",
    "except:\n",
    "    print(\"An error occured during addition\")\n",
    "else:\n",
    "    print(\"Add went well\")\n",
    "    print(result)"
   ]
  },
  {
   "cell_type": "code",
   "execution_count": 23,
   "metadata": {},
   "outputs": [
    {
     "name": "stdout",
     "output_type": "stream",
     "text": [
      "Closing file\n",
      "This always runs\n"
     ]
    }
   ],
   "source": [
    "try:\n",
    "    f = open('testfile.txt', 'w+')\n",
    "    f.write(\"Writing a new line into the file\")\n",
    "except OSError:\n",
    "    print(\"Hey you have an OSError\")\n",
    "except TypeError:\n",
    "    print(\"A TypeError occured\")\n",
    "else:\n",
    "    print(\"Closing file\")\n",
    "    f.close()\n",
    "finally:\n",
    "    print(\"This always runs\")"
   ]
  },
  {
   "cell_type": "code",
   "execution_count": 24,
   "metadata": {},
   "outputs": [],
   "source": [
    "def ask_for_int():\n",
    "    try:\n",
    "        number = int(input(\"Please provide a number: \"))\n",
    "    except:\n",
    "        print(\"Oops... that is not a number\")\n",
    "        ask_for_int()\n",
    "    finally:\n",
    "        print(\"End of try/except\")"
   ]
  },
  {
   "cell_type": "code",
   "execution_count": 25,
   "metadata": {},
   "outputs": [
    {
     "name": "stdout",
     "output_type": "stream",
     "text": [
      "Oops... that is not a number\n",
      "End of try/except\n",
      "End of try/except\n"
     ]
    }
   ],
   "source": [
    "ask_for_int()"
   ]
  },
  {
   "cell_type": "code",
   "execution_count": null,
   "metadata": {},
   "outputs": [],
   "source": []
  }
 ],
 "metadata": {
  "kernelspec": {
   "display_name": "Python 3",
   "language": "python",
   "name": "python3"
  },
  "language_info": {
   "codemirror_mode": {
    "name": "ipython",
    "version": 3
   },
   "file_extension": ".py",
   "mimetype": "text/x-python",
   "name": "python",
   "nbconvert_exporter": "python",
   "pygments_lexer": "ipython3",
   "version": "3.6.5"
  }
 },
 "nbformat": 4,
 "nbformat_minor": 2
}
